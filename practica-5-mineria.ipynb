{
 "cells": [
  {
   "cell_type": "markdown",
   "metadata": {},
   "source": [
    "# Práctica 5. Regresión logística\n",
    "\n",
    "Es un análisis de regresión utilizado para predecir el resultado de una variable categórica (una variable que puede adoptar un número limitado de categorías) en función de las variables independientes o predictoras."
   ]
  },
  {
   "cell_type": "code",
   "execution_count": 1,
   "metadata": {},
   "outputs": [],
   "source": [
    "# Importamos las librerías y paquetes\n",
    "\n",
    "from pandas import read_csv\n",
    "import matplotlib.pyplot as plt\n",
    "\n",
    "from sklearn.preprocessing import LabelEncoder\n",
    "from sklearn.preprocessing import OrdinalEncoder\n",
    "from sklearn.feature_selection import SelectKBest\n",
    "from sklearn.feature_selection import chi2\n",
    "from sklearn.feature_selection import mutual_info_classif\n",
    "from sklearn.model_selection import train_test_split\n",
    "from sklearn.linear_model import LogisticRegression\n",
    "from sklearn.metrics import accuracy_score"
   ]
  },
  {
   "cell_type": "code",
   "execution_count": 2,
   "metadata": {},
   "outputs": [],
   "source": [
    "#Aqui se carga el dataset\n",
    "def load_dataset(filename):\n",
    "    #Como un Dataframe\n",
    "    data = read_csv(filename, header=None)\n",
    "    #Creamos una matriz con los datos\n",
    "    dataset = data.values\n",
    "    #Dividimos en X y y\n",
    "    X = dataset[:, :-1]\n",
    "    y = dataset[:,-1]\n",
    "    #Forzamos el tipo string\n",
    "    X = X.astype(str)\n",
    "    return X, y\n",
    " \n",
    "#Entrada, X\n",
    "def prepare_inputs(X_train, X_test):\n",
    "    oe = OrdinalEncoder()\n",
    "    oe.fit(X_train)\n",
    "    X_train_enc = oe.transform(X_train)\n",
    "    X_test_enc = oe.transform(X_test)\n",
    "    return X_train_enc, X_test_enc\n",
    " \n",
    "#Salida, y\n",
    "def prepare_targets(y_train, y_test):\n",
    "    le = LabelEncoder()\n",
    "    le.fit(y_train)\n",
    "    y_train_enc = le.transform(y_train)\n",
    "    y_test_enc = le.transform(y_test)\n",
    "    return y_train_enc, y_test_enc"
   ]
  },
  {
   "cell_type": "code",
   "execution_count": 7,
   "metadata": {},
   "outputs": [
    {
     "name": "stderr",
     "output_type": "stream",
     "text": [
      "C:\\Anaconda3\\lib\\site-packages\\sklearn\\linear_model\\logistic.py:460: FutureWarning: Default multi_class will be changed to 'auto' in 0.22. Specify the multi_class option to silence this warning.\n",
      "  \"this warning.\", FutureWarning)\n"
     ]
    },
    {
     "name": "stdout",
     "output_type": "stream",
     "text": [
      "Accuracy/exactitud: 26.02 %\n"
     ]
    }
   ],
   "source": [
    "#Dataset\n",
    "file = \"insurance.csv\"\n",
    "X, y = load_dataset(file)\n",
    "\n",
    "#Se dividen los datos en entrada, X\n",
    "#salida  y\n",
    "X_train, X_test, y_train, y_test = train_test_split(X, y, test_size=0.33, random_state=1)\n",
    "#X\n",
    "X_train_enc, X_test_enc = prepare_inputs(X_train, X_test)\n",
    "# y\n",
    "y_train_enc, y_test_enc = prepare_targets(y_train, y_test)\n",
    "\n",
    "#Busqueda de modelo\n",
    "model = LogisticRegression(solver='lbfgs')\n",
    "model.fit(X_train_enc, y_train_enc)\n",
    "\n",
    "#Modelo\n",
    "yhat = model.predict(X_test_enc)\n",
    "\n",
    "#Evaluacion del modelo \n",
    "accuracy = accuracy_score(y_test_enc, yhat)\n",
    "print('Accuracy/exactitud: %.2f' % (accuracy*100), '%')"
   ]
  },
  {
   "cell_type": "code",
   "execution_count": 10,
   "metadata": {},
   "outputs": [],
   "source": [
    "#Características\n",
    "def select_features(X_train, y_train, X_test):\n",
    "    fs = SelectKBest(score_func=chi2, k='all')\n",
    "    fs.fit(X_train, y_train)\n",
    "    X_train_fs = fs.transform(X_train)\n",
    "    X_test_fs = fs.transform(X_test)\n",
    "    \n",
    "    for i in range(len(fs.scores_)):\n",
    "        print('Característica %d: %f' % (i, fs.scores_[i]))\n",
    "    \n",
    "    plt.bar([i for i in range(len(fs.scores_))], fs.scores_)\n",
    "    return X_train_fs, X_test_fs"
   ]
  },
  {
   "cell_type": "code",
   "execution_count": 11,
   "metadata": {},
   "outputs": [
    {
     "name": "stdout",
     "output_type": "stream",
     "text": [
      "Característica 0: 4.497293\n",
      "Característica 1: 5.380928\n",
      "Accuracy/exactitud: 26.02 %\n"
     ]
    },
    {
     "name": "stderr",
     "output_type": "stream",
     "text": [
      "C:\\Anaconda3\\lib\\site-packages\\sklearn\\linear_model\\logistic.py:460: FutureWarning: Default multi_class will be changed to 'auto' in 0.22. Specify the multi_class option to silence this warning.\n",
      "  \"this warning.\", FutureWarning)\n"
     ]
    },
    {
     "data": {
      "image/png": "[encoded data removed]",
      "text/plain": [
       "<Figure size 432x288 with 1 Axes>"
      ]
     },
     "metadata": {
      "needs_background": "light"
     },
     "output_type": "display_data"
    }
   ],
   "source": [
    "#Dataset\n",
    "file = \"insurance.csv\"\n",
    "X, y = load_dataset(file)\n",
    "\n",
    "#Se dividen los datos en entrada, X\n",
    "#salida  y\n",
    "X_train, X_test, y_train, y_test = train_test_split(X, y, test_size=0.33, random_state=1)\n",
    "#X\n",
    "X_train_enc, X_test_enc = prepare_inputs(X_train, X_test)\n",
    "#y\n",
    "y_train_enc, y_test_enc = prepare_targets(y_train, y_test)\n",
    "#Busqueda de modelo\n",
    "X_train_fs, X_test_fs = select_features(X_train_enc, y_train_enc, X_test_enc)\n",
    "\n",
    "#Busqueda de modelo\n",
    "model = LogisticRegression(solver='lbfgs')\n",
    "model.fit(X_train_fs, y_train_enc)\n",
    "\n",
    "#Modelo\n",
    "yhat = model.predict(X_test_fs)\n",
    "\n",
    "\n",
    "#Evaluacion del modelo \n",
    "accuracy = accuracy_score(y_test_enc, yhat)\n",
    "print('Accuracy/exactitud: %.2f' % (accuracy*100), '%')"
   ]
  },
  {
   "cell_type": "code",
   "execution_count": 14,
   "metadata": {},
   "outputs": [],
   "source": [
    "#Características\n",
    "def select_features(X_train, y_train, X_test):\n",
    "    fs = SelectKBest(score_func=mutual_info_classif, k='all')\n",
    "    fs.fit(X_train, y_train)\n",
    "    X_train_fs = fs.transform(X_train)\n",
    "    X_test_fs = fs.transform(X_test)\n",
    "    \n",
    "    for i in range(len(fs.scores_)):\n",
    "        print('Característica %d: %f' % (i, fs.scores_[i]))\n",
    "    \n",
    "    plt.bar([i for i in range(len(fs.scores_))], fs.scores_)\n",
    "    return X_train_fs, X_test_fs"
   ]
  },
  {
   "cell_type": "code",
   "execution_count": 15,
   "metadata": {},
   "outputs": [
    {
     "name": "stdout",
     "output_type": "stream",
     "text": [
      "Característica 0: 0.000000\n",
      "Característica 1: 0.026415\n",
      "Accuracy/exactitud: 26.02 %\n"
     ]
    },
    {
     "name": "stderr",
     "output_type": "stream",
     "text": [
      "C:\\Anaconda3\\lib\\site-packages\\sklearn\\linear_model\\logistic.py:460: FutureWarning: Default multi_class will be changed to 'auto' in 0.22. Specify the multi_class option to silence this warning.\n",
      "  \"this warning.\", FutureWarning)\n"
     ]
    },
    {
     "data": {
      "image/png": "[encoded data removed]",
      "text/plain": [
       "<Figure size 432x288 with 1 Axes>"
      ]
     },
     "metadata": {
      "needs_background": "light"
     },
     "output_type": "display_data"
    }
   ],
   "source": [
    "#Dataset\n",
    "file = \"insurance.csv\"\n",
    "X, y = load_dataset(file)\n",
    "\n",
    "#Se dividen los datos en entrada, X\n",
    "#salida  y\n",
    "X_train, X_test, y_train, y_test = train_test_split(X, y, test_size=0.33, random_state=1)\n",
    "#X\n",
    "X_train_enc, X_test_enc = prepare_inputs(X_train, X_test)\n",
    "#y\n",
    "y_train_enc, y_test_enc = prepare_targets(y_train, y_test)\n",
    "#Características\n",
    "X_train_fs, X_test_fs = select_features(X_train_enc, y_train_enc, X_test_enc)\n",
    "\n",
    "#Busqueda delmodelo\n",
    "model = LogisticRegression(solver='lbfgs')\n",
    "model.fit(X_train_fs, y_train_enc)\n",
    "\n",
    "#Modelo Encotnrado\n",
    "yhat = model.predict(X_test_fs)\n",
    "\n",
    "#Evaluacion modelo \n",
    "accuracy = accuracy_score(y_test_enc, yhat)\n",
    "print('Accuracy/exactitud: %.2f' % (accuracy*100), '%')"
   ]
  },
  {
   "cell_type": "code",
   "execution_count": null,
   "metadata": {},
   "outputs": [],
   "source": []
  }
 ],
 "metadata": {
  "kernelspec": {
   "display_name": "Python 3",
   "language": "python",
   "name": "python3"
  },
  "language_info": {
   "codemirror_mode": {
    "name": "ipython",
    "version": 3
   },
   "file_extension": ".py",
   "mimetype": "text/x-python",
   "name": "python",
   "nbconvert_exporter": "python",
   "pygments_lexer": "ipython3",
   "version": "3.7.3"
  }
 },
 "nbformat": 4,
 "nbformat_minor": 2
}
